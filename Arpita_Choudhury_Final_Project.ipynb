{
 "cells": [
  {
   "cell_type": "markdown",
   "id": "158492e0",
   "metadata": {},
   "source": [
    "Assignment number: Final Project \n",
    "\n",
    "Class: ISGB-7943-003\n",
    "\n",
    "Name: Arpita Choudhury"
   ]
  },
  {
   "cell_type": "markdown",
   "id": "54a95b4c",
   "metadata": {},
   "source": [
    "1.1 Reading the csv file and creating a dataframe. Additionally, performing due diligence."
   ]
  },
  {
   "cell_type": "code",
   "execution_count": 1,
   "id": "b918abf2",
   "metadata": {},
   "outputs": [],
   "source": [
    "import pandas as pd\n",
    "import matplotlib.pyplot as plt\n",
    "import seaborn as sns\n",
    "%matplotlib inline\n",
    "pd.set_option('display.precision', 2)\n",
    "sns.set(palette = \"rainbow\")"
   ]
  },
  {
   "cell_type": "code",
   "execution_count": 2,
   "id": "9ddf207f",
   "metadata": {},
   "outputs": [
    {
     "data": {
      "text/html": [
       "<div>\n",
       "<style scoped>\n",
       "    .dataframe tbody tr th:only-of-type {\n",
       "        vertical-align: middle;\n",
       "    }\n",
       "\n",
       "    .dataframe tbody tr th {\n",
       "        vertical-align: top;\n",
       "    }\n",
       "\n",
       "    .dataframe thead th {\n",
       "        text-align: right;\n",
       "    }\n",
       "</style>\n",
       "<table border=\"1\" class=\"dataframe\">\n",
       "  <thead>\n",
       "    <tr style=\"text-align: right;\">\n",
       "      <th></th>\n",
       "      <th>birth_year</th>\n",
       "      <th>gender</th>\n",
       "      <th>ethnicity</th>\n",
       "      <th>first_name</th>\n",
       "      <th>frequency</th>\n",
       "    </tr>\n",
       "  </thead>\n",
       "  <tbody>\n",
       "    <tr>\n",
       "      <th>0</th>\n",
       "      <td>2011</td>\n",
       "      <td>female</td>\n",
       "      <td>hispanic</td>\n",
       "      <td>geraldine</td>\n",
       "      <td>13</td>\n",
       "    </tr>\n",
       "    <tr>\n",
       "      <th>1</th>\n",
       "      <td>2011</td>\n",
       "      <td>female</td>\n",
       "      <td>hispanic</td>\n",
       "      <td>gia</td>\n",
       "      <td>21</td>\n",
       "    </tr>\n",
       "    <tr>\n",
       "      <th>2</th>\n",
       "      <td>2011</td>\n",
       "      <td>female</td>\n",
       "      <td>hispanic</td>\n",
       "      <td>gianna</td>\n",
       "      <td>49</td>\n",
       "    </tr>\n",
       "    <tr>\n",
       "      <th>3</th>\n",
       "      <td>2011</td>\n",
       "      <td>female</td>\n",
       "      <td>hispanic</td>\n",
       "      <td>giselle</td>\n",
       "      <td>38</td>\n",
       "    </tr>\n",
       "    <tr>\n",
       "      <th>4</th>\n",
       "      <td>2011</td>\n",
       "      <td>female</td>\n",
       "      <td>hispanic</td>\n",
       "      <td>grace</td>\n",
       "      <td>36</td>\n",
       "    </tr>\n",
       "  </tbody>\n",
       "</table>\n",
       "</div>"
      ],
      "text/plain": [
       "   birth_year  gender ethnicity first_name  frequency\n",
       "0        2011  female  hispanic  geraldine         13\n",
       "1        2011  female  hispanic        gia         21\n",
       "2        2011  female  hispanic     gianna         49\n",
       "3        2011  female  hispanic    giselle         38\n",
       "4        2011  female  hispanic      grace         36"
      ]
     },
     "execution_count": 2,
     "metadata": {},
     "output_type": "execute_result"
    }
   ],
   "source": [
    "births = pd.read_excel(\"births.xlsx\")\n",
    "births.head()"
   ]
  },
  {
   "cell_type": "code",
   "execution_count": 3,
   "id": "ce539e6d",
   "metadata": {},
   "outputs": [
    {
     "name": "stdout",
     "output_type": "stream",
     "text": [
      "<class 'pandas.core.frame.DataFrame'>\n",
      "RangeIndex: 37537 entries, 0 to 37536\n",
      "Data columns (total 5 columns):\n",
      " #   Column      Non-Null Count  Dtype \n",
      "---  ------      --------------  ----- \n",
      " 0   birth_year  37537 non-null  int64 \n",
      " 1   gender      37537 non-null  object\n",
      " 2   ethnicity   37537 non-null  object\n",
      " 3   first_name  37537 non-null  object\n",
      " 4   frequency   37537 non-null  int64 \n",
      "dtypes: int64(2), object(3)\n",
      "memory usage: 1.4+ MB\n"
     ]
    }
   ],
   "source": [
    "births.info()"
   ]
  },
  {
   "cell_type": "code",
   "execution_count": 4,
   "id": "e14437c3",
   "metadata": {},
   "outputs": [
    {
     "data": {
      "text/plain": [
       "(37537, 5)"
      ]
     },
     "execution_count": 4,
     "metadata": {},
     "output_type": "execute_result"
    }
   ],
   "source": [
    "births.shape"
   ]
  },
  {
   "cell_type": "code",
   "execution_count": 5,
   "id": "68a9ca0f",
   "metadata": {},
   "outputs": [
    {
     "data": {
      "text/plain": [
       "187685"
      ]
     },
     "execution_count": 5,
     "metadata": {},
     "output_type": "execute_result"
    }
   ],
   "source": [
    "births.size"
   ]
  },
  {
   "cell_type": "code",
   "execution_count": 6,
   "id": "a6713244",
   "metadata": {},
   "outputs": [
    {
     "data": {
      "text/plain": [
       "RangeIndex(start=0, stop=37537, step=1)"
      ]
     },
     "execution_count": 6,
     "metadata": {},
     "output_type": "execute_result"
    }
   ],
   "source": [
    "births.index"
   ]
  },
  {
   "cell_type": "code",
   "execution_count": 7,
   "id": "d4415dec",
   "metadata": {},
   "outputs": [
    {
     "data": {
      "text/html": [
       "<div>\n",
       "<style scoped>\n",
       "    .dataframe tbody tr th:only-of-type {\n",
       "        vertical-align: middle;\n",
       "    }\n",
       "\n",
       "    .dataframe tbody tr th {\n",
       "        vertical-align: top;\n",
       "    }\n",
       "\n",
       "    .dataframe thead th {\n",
       "        text-align: right;\n",
       "    }\n",
       "</style>\n",
       "<table border=\"1\" class=\"dataframe\">\n",
       "  <thead>\n",
       "    <tr style=\"text-align: right;\">\n",
       "      <th></th>\n",
       "      <th>birth_year</th>\n",
       "      <th>frequency</th>\n",
       "    </tr>\n",
       "  </thead>\n",
       "  <tbody>\n",
       "    <tr>\n",
       "      <th>count</th>\n",
       "      <td>37537.00</td>\n",
       "      <td>37537.00</td>\n",
       "    </tr>\n",
       "    <tr>\n",
       "      <th>mean</th>\n",
       "      <td>2013.07</td>\n",
       "      <td>33.91</td>\n",
       "    </tr>\n",
       "    <tr>\n",
       "      <th>std</th>\n",
       "      <td>1.67</td>\n",
       "      <td>38.96</td>\n",
       "    </tr>\n",
       "    <tr>\n",
       "      <th>min</th>\n",
       "      <td>2011.00</td>\n",
       "      <td>10.00</td>\n",
       "    </tr>\n",
       "    <tr>\n",
       "      <th>25%</th>\n",
       "      <td>2012.00</td>\n",
       "      <td>13.00</td>\n",
       "    </tr>\n",
       "    <tr>\n",
       "      <th>50%</th>\n",
       "      <td>2013.00</td>\n",
       "      <td>20.00</td>\n",
       "    </tr>\n",
       "    <tr>\n",
       "      <th>75%</th>\n",
       "      <td>2014.00</td>\n",
       "      <td>36.00</td>\n",
       "    </tr>\n",
       "    <tr>\n",
       "      <th>max</th>\n",
       "      <td>2017.00</td>\n",
       "      <td>426.00</td>\n",
       "    </tr>\n",
       "  </tbody>\n",
       "</table>\n",
       "</div>"
      ],
      "text/plain": [
       "       birth_year  frequency\n",
       "count    37537.00   37537.00\n",
       "mean      2013.07      33.91\n",
       "std          1.67      38.96\n",
       "min       2011.00      10.00\n",
       "25%       2012.00      13.00\n",
       "50%       2013.00      20.00\n",
       "75%       2014.00      36.00\n",
       "max       2017.00     426.00"
      ]
     },
     "execution_count": 7,
     "metadata": {},
     "output_type": "execute_result"
    }
   ],
   "source": [
    "births.describe()"
   ]
  },
  {
   "cell_type": "code",
   "execution_count": 8,
   "id": "9de31ac1",
   "metadata": {},
   "outputs": [
    {
     "data": {
      "text/plain": [
       "birth_year     int64\n",
       "gender        object\n",
       "ethnicity     object\n",
       "first_name    object\n",
       "frequency      int64\n",
       "dtype: object"
      ]
     },
     "execution_count": 8,
     "metadata": {},
     "output_type": "execute_result"
    }
   ],
   "source": [
    "births.dtypes"
   ]
  },
  {
   "cell_type": "code",
   "execution_count": 9,
   "id": "e8456fcf",
   "metadata": {},
   "outputs": [
    {
     "data": {
      "text/plain": [
       "birth_year    0\n",
       "gender        0\n",
       "ethnicity     0\n",
       "first_name    0\n",
       "frequency     0\n",
       "dtype: int64"
      ]
     },
     "execution_count": 9,
     "metadata": {},
     "output_type": "execute_result"
    }
   ],
   "source": [
    "births.isna().sum()"
   ]
  },
  {
   "cell_type": "markdown",
   "id": "aedac8bd",
   "metadata": {},
   "source": [
    "Answer: Total number of rows in the dataframe    = 37537\n",
    "\n",
    "        Total number of columns in the dataframe = 5\n",
    "        \n",
    "        Datatype of birth_year and frequency is integer.\n",
    "        \n",
    "        gender, ethnicity, first_name is of object datatype.\n",
    "        \n",
    "        No missing/null values noted in the dataframe."
   ]
  },
  {
   "cell_type": "markdown",
   "id": "9f9b3a93",
   "metadata": {},
   "source": [
    "1.2 Number of babies born in the dataset"
   ]
  },
  {
   "cell_type": "code",
   "execution_count": 46,
   "id": "4c7c01ad",
   "metadata": {},
   "outputs": [
    {
     "data": {
      "text/plain": [
       "1273006"
      ]
     },
     "execution_count": 46,
     "metadata": {},
     "output_type": "execute_result"
    }
   ],
   "source": [
    "births.frequency.sum()"
   ]
  },
  {
   "cell_type": "markdown",
   "id": "d1881427",
   "metadata": {},
   "source": [
    "Answer: The total number of babies born in the dataset is 1273006"
   ]
  },
  {
   "cell_type": "markdown",
   "id": "56e521a4",
   "metadata": {},
   "source": [
    "1.3 Number of babies according to the gender"
   ]
  },
  {
   "cell_type": "code",
   "execution_count": 50,
   "id": "d318f9ee",
   "metadata": {},
   "outputs": [
    {
     "data": {
      "text/plain": [
       "gender\n",
       "female    558728\n",
       "male      714278\n",
       "Name: frequency, dtype: int64"
      ]
     },
     "execution_count": 50,
     "metadata": {},
     "output_type": "execute_result"
    }
   ],
   "source": [
    "births.groupby(\"gender\").frequency.sum()"
   ]
  },
  {
   "cell_type": "code",
   "execution_count": 53,
   "id": "cf4a6ae8",
   "metadata": {},
   "outputs": [
    {
     "data": {
      "image/png": "[encoded data removed]",
      "text/plain": [
       "<Figure size 576x360 with 1 Axes>"
      ]
     },
     "metadata": {},
     "output_type": "display_data"
    }
   ],
   "source": [
    "births.groupby(\"gender\").frequency.sum().plot(kind=\"bar\", figsize= (8,5),title = \"number of babies born according to gender\");"
   ]
  },
  {
   "cell_type": "markdown",
   "id": "3474faee",
   "metadata": {},
   "source": [
    "Answer: Out of the total babies born, 558728 were females while 714278 were males."
   ]
  },
  {
   "cell_type": "markdown",
   "id": "81d9a1c6",
   "metadata": {},
   "source": [
    "1.4 Number of babies born in each year"
   ]
  },
  {
   "cell_type": "code",
   "execution_count": 58,
   "id": "2786e2d9",
   "metadata": {},
   "outputs": [
    {
     "data": {
      "text/plain": [
       "birth_year\n",
       "2017     65395\n",
       "2016     68740\n",
       "2015     69600\n",
       "2014    262634\n",
       "2013    262686\n",
       "2011    269829\n",
       "2012    274122\n",
       "Name: frequency, dtype: int64"
      ]
     },
     "execution_count": 58,
     "metadata": {},
     "output_type": "execute_result"
    }
   ],
   "source": [
    "births.groupby(\"birth_year\").frequency.sum().sort_values()"
   ]
  },
  {
   "cell_type": "code",
   "execution_count": 57,
   "id": "454992f6",
   "metadata": {},
   "outputs": [
    {
     "data": {
      "image/png": "[encoded data removed]",
      "text/plain": [
       "<Figure size 576x360 with 1 Axes>"
      ]
     },
     "metadata": {},
     "output_type": "display_data"
    }
   ],
   "source": [
    "births.groupby(\"birth_year\").frequency.sum().plot(kind=\"bar\",figsize = (8,5), title=\"Number of babies born each year\");"
   ]
  },
  {
   "cell_type": "markdown",
   "id": "112db406",
   "metadata": {},
   "source": [
    "Answer: The maximum number of babies were born in the year 2012 while the year 2017 saw the least number of newborns."
   ]
  },
  {
   "cell_type": "code",
   "execution_count": 17,
   "id": "abbac13d",
   "metadata": {},
   "outputs": [
    {
     "data": {
      "text/html": [
       "<div>\n",
       "<style scoped>\n",
       "    .dataframe tbody tr th:only-of-type {\n",
       "        vertical-align: middle;\n",
       "    }\n",
       "\n",
       "    .dataframe tbody tr th {\n",
       "        vertical-align: top;\n",
       "    }\n",
       "\n",
       "    .dataframe thead th {\n",
       "        text-align: right;\n",
       "    }\n",
       "</style>\n",
       "<table border=\"1\" class=\"dataframe\">\n",
       "  <thead>\n",
       "    <tr style=\"text-align: right;\">\n",
       "      <th></th>\n",
       "      <th>birth_year</th>\n",
       "      <th>gender</th>\n",
       "      <th>ethnicity</th>\n",
       "      <th>first_name</th>\n",
       "      <th>frequency</th>\n",
       "    </tr>\n",
       "  </thead>\n",
       "  <tbody>\n",
       "    <tr>\n",
       "      <th>0</th>\n",
       "      <td>2011</td>\n",
       "      <td>female</td>\n",
       "      <td>hispanic</td>\n",
       "      <td>geraldine</td>\n",
       "      <td>13</td>\n",
       "    </tr>\n",
       "    <tr>\n",
       "      <th>1</th>\n",
       "      <td>2011</td>\n",
       "      <td>female</td>\n",
       "      <td>hispanic</td>\n",
       "      <td>gia</td>\n",
       "      <td>21</td>\n",
       "    </tr>\n",
       "    <tr>\n",
       "      <th>2</th>\n",
       "      <td>2011</td>\n",
       "      <td>female</td>\n",
       "      <td>hispanic</td>\n",
       "      <td>gianna</td>\n",
       "      <td>49</td>\n",
       "    </tr>\n",
       "    <tr>\n",
       "      <th>3</th>\n",
       "      <td>2011</td>\n",
       "      <td>female</td>\n",
       "      <td>hispanic</td>\n",
       "      <td>giselle</td>\n",
       "      <td>38</td>\n",
       "    </tr>\n",
       "    <tr>\n",
       "      <th>4</th>\n",
       "      <td>2011</td>\n",
       "      <td>female</td>\n",
       "      <td>hispanic</td>\n",
       "      <td>grace</td>\n",
       "      <td>36</td>\n",
       "    </tr>\n",
       "    <tr>\n",
       "      <th>...</th>\n",
       "      <td>...</td>\n",
       "      <td>...</td>\n",
       "      <td>...</td>\n",
       "      <td>...</td>\n",
       "      <td>...</td>\n",
       "    </tr>\n",
       "    <tr>\n",
       "      <th>37532</th>\n",
       "      <td>2014</td>\n",
       "      <td>male</td>\n",
       "      <td>white non hispanic</td>\n",
       "      <td>yousef</td>\n",
       "      <td>18</td>\n",
       "    </tr>\n",
       "    <tr>\n",
       "      <th>37533</th>\n",
       "      <td>2014</td>\n",
       "      <td>male</td>\n",
       "      <td>white non hispanic</td>\n",
       "      <td>youssef</td>\n",
       "      <td>24</td>\n",
       "    </tr>\n",
       "    <tr>\n",
       "      <th>37534</th>\n",
       "      <td>2014</td>\n",
       "      <td>male</td>\n",
       "      <td>white non hispanic</td>\n",
       "      <td>yusuf</td>\n",
       "      <td>16</td>\n",
       "    </tr>\n",
       "    <tr>\n",
       "      <th>37535</th>\n",
       "      <td>2014</td>\n",
       "      <td>male</td>\n",
       "      <td>white non hispanic</td>\n",
       "      <td>zachary</td>\n",
       "      <td>90</td>\n",
       "    </tr>\n",
       "    <tr>\n",
       "      <th>37536</th>\n",
       "      <td>2014</td>\n",
       "      <td>male</td>\n",
       "      <td>white non hispanic</td>\n",
       "      <td>zev</td>\n",
       "      <td>49</td>\n",
       "    </tr>\n",
       "  </tbody>\n",
       "</table>\n",
       "<p>37537 rows × 5 columns</p>\n",
       "</div>"
      ],
      "text/plain": [
       "       birth_year  gender           ethnicity first_name  frequency\n",
       "0            2011  female            hispanic  geraldine         13\n",
       "1            2011  female            hispanic        gia         21\n",
       "2            2011  female            hispanic     gianna         49\n",
       "3            2011  female            hispanic    giselle         38\n",
       "4            2011  female            hispanic      grace         36\n",
       "...           ...     ...                 ...        ...        ...\n",
       "37532        2014    male  white non hispanic     yousef         18\n",
       "37533        2014    male  white non hispanic    youssef         24\n",
       "37534        2014    male  white non hispanic      yusuf         16\n",
       "37535        2014    male  white non hispanic    zachary         90\n",
       "37536        2014    male  white non hispanic        zev         49\n",
       "\n",
       "[37537 rows x 5 columns]"
      ]
     },
     "execution_count": 17,
     "metadata": {},
     "output_type": "execute_result"
    }
   ],
   "source": [
    "df = births.replace(\"white non hisp\", \"white non hispanic\").replace(\"black non hisp\",\"black non hispanic\").replace(\"asian and paci\",\"asian and pacific islander\")\n",
    "df"
   ]
  },
  {
   "cell_type": "markdown",
   "id": "6c8a07ac",
   "metadata": {},
   "source": [
    "1.5 Number of babies born out of ethnicity"
   ]
  },
  {
   "cell_type": "code",
   "execution_count": 60,
   "id": "b7b31b6a",
   "metadata": {},
   "outputs": [
    {
     "data": {
      "text/plain": [
       "ethnicity\n",
       "asian and paci                 40085\n",
       "asian and pacific islander    131935\n",
       "black non hisp                 39426\n",
       "black non hispanic            145804\n",
       "hispanic                      425239\n",
       "white non hisp                103829\n",
       "white non hispanic            386688\n",
       "Name: frequency, dtype: int64"
      ]
     },
     "execution_count": 60,
     "metadata": {},
     "output_type": "execute_result"
    }
   ],
   "source": [
    "births.groupby(\"ethnicity\").frequency.sum()"
   ]
  },
  {
   "cell_type": "code",
   "execution_count": 61,
   "id": "a025d38f",
   "metadata": {},
   "outputs": [
    {
     "data": {
      "image/png": "[encoded data removed]",
      "text/plain": [
       "<Figure size 432x288 with 1 Axes>"
      ]
     },
     "metadata": {},
     "output_type": "display_data"
    }
   ],
   "source": [
    "births.groupby(\"ethnicity\").frequency.sum().plot(kind = \"bar\", title = \"Number of babies born out of each ethnicity\");"
   ]
  },
  {
   "cell_type": "code",
   "execution_count": 63,
   "id": "abc7f7bf",
   "metadata": {},
   "outputs": [
    {
     "data": {
      "text/plain": [
       "ethnicity\n",
       "asian and pacific islander    172020\n",
       "black non hispanic            185230\n",
       "hispanic                      425239\n",
       "white non hispanic            490517\n",
       "Name: frequency, dtype: int64"
      ]
     },
     "execution_count": 63,
     "metadata": {},
     "output_type": "execute_result"
    }
   ],
   "source": [
    "df.groupby(\"ethnicity\").frequency.sum()"
   ]
  },
  {
   "cell_type": "code",
   "execution_count": 64,
   "id": "15ebe57d",
   "metadata": {},
   "outputs": [
    {
     "data": {
      "image/png": "[encoded data removed]",
      "text/plain": [
       "<Figure size 432x288 with 1 Axes>"
      ]
     },
     "metadata": {},
     "output_type": "display_data"
    }
   ],
   "source": [
    "df.groupby(\"ethnicity\").frequency.sum().plot(kind = \"bar\", title = \"Number of babies born out of each ethnicity\");"
   ]
  },
  {
   "cell_type": "markdown",
   "id": "4cbaf8fb",
   "metadata": {},
   "source": [
    "Answer: Majority of the babies were noted to be of \"hispanic\" origin while the least were from \"asian and paci\" origin, if we consider the births dataframe. \n",
    "\n",
    "While, majority of the babies were noted to be of \"white non hispanic\" origin and least were noted from \"asian and pacific islander\" if we take the df dataframe into consideration.\n",
    "\n",
    "As per the instructions, no change was allowed to be made on excel and pandas so I created another dataframe df."
   ]
  },
  {
   "cell_type": "markdown",
   "id": "4025570d",
   "metadata": {},
   "source": [
    "1.6 Ten most popular names in the dataset"
   ]
  },
  {
   "cell_type": "code",
   "execution_count": 65,
   "id": "03eaf8f2",
   "metadata": {},
   "outputs": [
    {
     "data": {
      "text/plain": [
       "first_name\n",
       "ethan       12071\n",
       "jacob       11762\n",
       "jayden      11165\n",
       "daniel      10035\n",
       "matthew      9983\n",
       "david        9920\n",
       "michael      9796\n",
       "sophia       9578\n",
       "isabella     9291\n",
       "aiden        9276\n",
       "Name: frequency, dtype: int64"
      ]
     },
     "execution_count": 65,
     "metadata": {},
     "output_type": "execute_result"
    }
   ],
   "source": [
    "popular_names = births.groupby(\"first_name\").frequency.sum().sort_values(ascending = False)\n",
    "popular_names.head(10)"
   ]
  },
  {
   "cell_type": "markdown",
   "id": "d0008fa0",
   "metadata": {},
   "source": [
    "Answer: The most popular name in the dataset is \"ethan\". \"aiden\" is the 10th most popular name in the dataset."
   ]
  },
  {
   "cell_type": "markdown",
   "id": "1cf96e29",
   "metadata": {},
   "source": [
    "1.7 Ten most popular female names in the dataset"
   ]
  },
  {
   "cell_type": "code",
   "execution_count": 23,
   "id": "798c6f69",
   "metadata": {},
   "outputs": [
    {
     "data": {
      "text/plain": [
       "first_name\n",
       "sophia      9578\n",
       "isabella    9291\n",
       "emma        8581\n",
       "olivia      8561\n",
       "mia         8094\n",
       "emily       7691\n",
       "leah        6756\n",
       "chloe       6201\n",
       "madison     6161\n",
       "ava         6092\n",
       "Name: frequency, dtype: int64"
      ]
     },
     "execution_count": 23,
     "metadata": {},
     "output_type": "execute_result"
    }
   ],
   "source": [
    "filter1 = (births.gender == \"female\")\n",
    "popular_female_names = births[filter1].groupby(\"first_name\").frequency.sum().sort_values(ascending=False)\n",
    "popular_female_names.head(10)"
   ]
  },
  {
   "cell_type": "markdown",
   "id": "1645fb13",
   "metadata": {},
   "source": [
    "Answer: The most popular baby girl name in the dataset is \"sophia\". \"ava\" is the 10th most popular baby girl name in the dataset."
   ]
  },
  {
   "cell_type": "markdown",
   "id": "baf18410",
   "metadata": {},
   "source": [
    "1.8 Checking the popularity for the name \"david\" "
   ]
  },
  {
   "cell_type": "code",
   "execution_count": 24,
   "id": "2681c487",
   "metadata": {},
   "outputs": [
    {
     "data": {
      "text/plain": [
       "birth_year\n",
       "2011    2014\n",
       "2012    2288\n",
       "2013    2332\n",
       "2014    1758\n",
       "2015     545\n",
       "2016     476\n",
       "2017     507\n",
       "Name: frequency, dtype: int64"
      ]
     },
     "execution_count": 24,
     "metadata": {},
     "output_type": "execute_result"
    }
   ],
   "source": [
    "filter2 = (births.first_name == \"david\")\n",
    "david_popularity = births[filter2].groupby(\"birth_year\").frequency.sum()\n",
    "david_popularity"
   ]
  },
  {
   "cell_type": "markdown",
   "id": "d6a0e10b",
   "metadata": {},
   "source": [
    "Answer: The name \"david\" has become less popular over the years so I think that the claim is not true."
   ]
  },
  {
   "cell_type": "markdown",
   "id": "c667087c",
   "metadata": {},
   "source": [
    "1.9 Counting unique first names in the dataset"
   ]
  },
  {
   "cell_type": "code",
   "execution_count": 25,
   "id": "de03583b",
   "metadata": {},
   "outputs": [
    {
     "data": {
      "text/plain": [
       "1832"
      ]
     },
     "execution_count": 25,
     "metadata": {},
     "output_type": "execute_result"
    }
   ],
   "source": [
    "births.first_name.nunique()"
   ]
  },
  {
   "cell_type": "markdown",
   "id": "ecbd8e98",
   "metadata": {},
   "source": [
    "Answer: There are a total of 1832 distinct first names in the dataset."
   ]
  },
  {
   "cell_type": "markdown",
   "id": "abe49d75",
   "metadata": {},
   "source": [
    "1.10 Count of distinct male and female names in the dataset"
   ]
  },
  {
   "cell_type": "code",
   "execution_count": 26,
   "id": "f83f3a07",
   "metadata": {},
   "outputs": [
    {
     "data": {
      "text/plain": [
       "gender\n",
       "female    1011\n",
       "male       852\n",
       "Name: first_name, dtype: int64"
      ]
     },
     "execution_count": 26,
     "metadata": {},
     "output_type": "execute_result"
    }
   ],
   "source": [
    "births.groupby(\"gender\").first_name.nunique()"
   ]
  },
  {
   "cell_type": "markdown",
   "id": "ab1a5bd2",
   "metadata": {},
   "source": [
    "Answer: The total number of unique female names is 1011 and that of male names is 852."
   ]
  },
  {
   "cell_type": "markdown",
   "id": "c5d4293d",
   "metadata": {},
   "source": [
    "1.11 Checking for consistency of the results for 1.9 and 1.10."
   ]
  },
  {
   "cell_type": "markdown",
   "id": "2dedd555",
   "metadata": {},
   "source": [
    "Answer: No, the answers are not consistent which implies that a few of the first_names are unisex. For example: \"dylan\"."
   ]
  },
  {
   "cell_type": "markdown",
   "id": "4c9955bc",
   "metadata": {},
   "source": [
    "1.12 Creating a table to store the total number of babies according to ethnicity and year."
   ]
  },
  {
   "cell_type": "code",
   "execution_count": 29,
   "id": "cc7048bf",
   "metadata": {},
   "outputs": [
    {
     "data": {
      "text/plain": [
       "ethnicity                   birth_year\n",
       "asian and paci              2012           40085\n",
       "asian and pacific islander  2011           32217\n",
       "                            2013           34760\n",
       "                            2014           36536\n",
       "                            2015            9584\n",
       "                            2016            9973\n",
       "                            2017            8865\n",
       "black non hisp              2012           39426\n",
       "black non hispanic          2011           42045\n",
       "                            2013           38548\n",
       "                            2014           37728\n",
       "                            2015            9637\n",
       "                            2016            9147\n",
       "                            2017            8699\n",
       "hispanic                    2011           96743\n",
       "                            2012           90782\n",
       "                            2013           86585\n",
       "                            2014           85529\n",
       "                            2015           22813\n",
       "                            2016           22086\n",
       "                            2017           20701\n",
       "white non hisp              2012          103829\n",
       "white non hispanic          2011           98824\n",
       "                            2013          102793\n",
       "                            2014          102841\n",
       "                            2015           27566\n",
       "                            2016           27534\n",
       "                            2017           27130\n",
       "Name: frequency, dtype: int64"
      ]
     },
     "execution_count": 29,
     "metadata": {},
     "output_type": "execute_result"
    }
   ],
   "source": [
    "births.groupby([\"ethnicity\",\"birth_year\"]).frequency.sum()    #according to births dataframe"
   ]
  },
  {
   "cell_type": "code",
   "execution_count": 30,
   "id": "af93723a",
   "metadata": {},
   "outputs": [
    {
     "data": {
      "text/plain": [
       "ethnicity                   birth_year\n",
       "asian and pacific islander  2011           32217\n",
       "                            2012           40085\n",
       "                            2013           34760\n",
       "                            2014           36536\n",
       "                            2015            9584\n",
       "                            2016            9973\n",
       "                            2017            8865\n",
       "black non hispanic          2011           42045\n",
       "                            2012           39426\n",
       "                            2013           38548\n",
       "                            2014           37728\n",
       "                            2015            9637\n",
       "                            2016            9147\n",
       "                            2017            8699\n",
       "hispanic                    2011           96743\n",
       "                            2012           90782\n",
       "                            2013           86585\n",
       "                            2014           85529\n",
       "                            2015           22813\n",
       "                            2016           22086\n",
       "                            2017           20701\n",
       "white non hispanic          2011           98824\n",
       "                            2012          103829\n",
       "                            2013          102793\n",
       "                            2014          102841\n",
       "                            2015           27566\n",
       "                            2016           27534\n",
       "                            2017           27130\n",
       "Name: frequency, dtype: int64"
      ]
     },
     "execution_count": 30,
     "metadata": {},
     "output_type": "execute_result"
    }
   ],
   "source": [
    "df.groupby([\"ethnicity\",\"birth_year\"]).frequency.sum()    #according to df dataframe"
   ]
  },
  {
   "cell_type": "markdown",
   "id": "f37d7017",
   "metadata": {},
   "source": [
    "Answer: The blank spaces refer to the ethnicity group above it. In the year 2011, maximum babies were born of \"white non hispanic\" origin. Over the years, \"black non hispanic\" origin babies recorded the least number of births."
   ]
  },
  {
   "cell_type": "markdown",
   "id": "630e5f31",
   "metadata": {},
   "source": [
    "1.13 To compare the number of female to male babies."
   ]
  },
  {
   "cell_type": "code",
   "execution_count": 66,
   "id": "565d5aad",
   "metadata": {},
   "outputs": [
    {
     "data": {
      "text/plain": [
       "gender  birth_year\n",
       "female  2011          117700\n",
       "        2012          119406\n",
       "        2013          115183\n",
       "        2014          116590\n",
       "        2015           30592\n",
       "        2016           30360\n",
       "        2017           28897\n",
       "male    2011          152129\n",
       "        2012          154716\n",
       "        2013          147503\n",
       "        2014          146044\n",
       "        2015           39008\n",
       "        2016           38380\n",
       "        2017           36498\n",
       "Name: frequency, dtype: int64"
      ]
     },
     "execution_count": 66,
     "metadata": {},
     "output_type": "execute_result"
    }
   ],
   "source": [
    "births.groupby([\"gender\",\"birth_year\"]).frequency.sum()"
   ]
  },
  {
   "cell_type": "markdown",
   "id": "37b47b27",
   "metadata": {},
   "source": [
    "Answer: Yes, the number of females born in NYC has lessened over the years when compared with the number of males born."
   ]
  },
  {
   "cell_type": "markdown",
   "id": "89c6a057",
   "metadata": {},
   "source": [
    "2.1 Performing due diligence and summarizing house prices in the community "
   ]
  },
  {
   "cell_type": "code",
   "execution_count": 32,
   "id": "d5855bf3",
   "metadata": {},
   "outputs": [
    {
     "data": {
      "text/html": [
       "<div>\n",
       "<style scoped>\n",
       "    .dataframe tbody tr th:only-of-type {\n",
       "        vertical-align: middle;\n",
       "    }\n",
       "\n",
       "    .dataframe tbody tr th {\n",
       "        vertical-align: top;\n",
       "    }\n",
       "\n",
       "    .dataframe thead th {\n",
       "        text-align: right;\n",
       "    }\n",
       "</style>\n",
       "<table border=\"1\" class=\"dataframe\">\n",
       "  <thead>\n",
       "    <tr style=\"text-align: right;\">\n",
       "      <th></th>\n",
       "      <th>address</th>\n",
       "      <th>price</th>\n",
       "      <th>acres</th>\n",
       "      <th>size_sqft</th>\n",
       "      <th>age</th>\n",
       "      <th>rooms</th>\n",
       "      <th>baths</th>\n",
       "      <th>garages</th>\n",
       "    </tr>\n",
       "  </thead>\n",
       "  <tbody>\n",
       "    <tr>\n",
       "      <th>0</th>\n",
       "      <td>9 Sycamore Road</td>\n",
       "      <td>466.0</td>\n",
       "      <td>0.23</td>\n",
       "      <td>2448</td>\n",
       "      <td>46</td>\n",
       "      <td>7</td>\n",
       "      <td>3.5</td>\n",
       "      <td>2</td>\n",
       "    </tr>\n",
       "    <tr>\n",
       "      <th>1</th>\n",
       "      <td>21 Jefferson St</td>\n",
       "      <td>364.0</td>\n",
       "      <td>0.22</td>\n",
       "      <td>1942</td>\n",
       "      <td>51</td>\n",
       "      <td>7</td>\n",
       "      <td>2.5</td>\n",
       "      <td>1</td>\n",
       "    </tr>\n",
       "    <tr>\n",
       "      <th>2</th>\n",
       "      <td>38 Hitching Post Lane</td>\n",
       "      <td>429.0</td>\n",
       "      <td>0.16</td>\n",
       "      <td>2073</td>\n",
       "      <td>29</td>\n",
       "      <td>5</td>\n",
       "      <td>3.0</td>\n",
       "      <td>2</td>\n",
       "    </tr>\n",
       "    <tr>\n",
       "      <th>3</th>\n",
       "      <td>4 Poppy Lane</td>\n",
       "      <td>548.4</td>\n",
       "      <td>0.46</td>\n",
       "      <td>2707</td>\n",
       "      <td>18</td>\n",
       "      <td>8</td>\n",
       "      <td>2.5</td>\n",
       "      <td>1</td>\n",
       "    </tr>\n",
       "    <tr>\n",
       "      <th>4</th>\n",
       "      <td>5 Daniel Drive</td>\n",
       "      <td>405.9</td>\n",
       "      <td>0.25</td>\n",
       "      <td>2042</td>\n",
       "      <td>46</td>\n",
       "      <td>7</td>\n",
       "      <td>1.5</td>\n",
       "      <td>1</td>\n",
       "    </tr>\n",
       "  </tbody>\n",
       "</table>\n",
       "</div>"
      ],
      "text/plain": [
       "                 address  price  acres  size_sqft  age  rooms  baths  garages\n",
       "0        9 Sycamore Road  466.0   0.23       2448   46      7    3.5        2\n",
       "1        21 Jefferson St  364.0   0.22       1942   51      7    2.5        1\n",
       "2  38 Hitching Post Lane  429.0   0.16       2073   29      5    3.0        2\n",
       "3           4 Poppy Lane  548.4   0.46       2707   18      8    2.5        1\n",
       "4         5 Daniel Drive  405.9   0.25       2042   46      7    1.5        1"
      ]
     },
     "execution_count": 32,
     "metadata": {},
     "output_type": "execute_result"
    }
   ],
   "source": [
    "house_price = pd.read_excel(\"house_prices.xlsx\")\n",
    "house_price.head()"
   ]
  },
  {
   "cell_type": "code",
   "execution_count": 33,
   "id": "b30d94a2",
   "metadata": {},
   "outputs": [
    {
     "name": "stdout",
     "output_type": "stream",
     "text": [
      "<class 'pandas.core.frame.DataFrame'>\n",
      "RangeIndex: 30 entries, 0 to 29\n",
      "Data columns (total 8 columns):\n",
      " #   Column     Non-Null Count  Dtype  \n",
      "---  ------     --------------  -----  \n",
      " 0   address    30 non-null     object \n",
      " 1   price      30 non-null     float64\n",
      " 2   acres      30 non-null     float64\n",
      " 3   size_sqft  30 non-null     int64  \n",
      " 4   age        30 non-null     int64  \n",
      " 5   rooms      30 non-null     int64  \n",
      " 6   baths      30 non-null     float64\n",
      " 7   garages    30 non-null     int64  \n",
      "dtypes: float64(3), int64(4), object(1)\n",
      "memory usage: 2.0+ KB\n"
     ]
    }
   ],
   "source": [
    "house_price.info()"
   ]
  },
  {
   "cell_type": "code",
   "execution_count": 34,
   "id": "18d3ded4",
   "metadata": {},
   "outputs": [
    {
     "data": {
      "text/plain": [
       "(30, 8)"
      ]
     },
     "execution_count": 34,
     "metadata": {},
     "output_type": "execute_result"
    }
   ],
   "source": [
    "house_price.shape"
   ]
  },
  {
   "cell_type": "code",
   "execution_count": 35,
   "id": "56a83706",
   "metadata": {},
   "outputs": [
    {
     "data": {
      "text/plain": [
       "240"
      ]
     },
     "execution_count": 35,
     "metadata": {},
     "output_type": "execute_result"
    }
   ],
   "source": [
    "house_price.size"
   ]
  },
  {
   "cell_type": "code",
   "execution_count": 36,
   "id": "171d9a36",
   "metadata": {},
   "outputs": [
    {
     "data": {
      "text/plain": [
       "RangeIndex(start=0, stop=30, step=1)"
      ]
     },
     "execution_count": 36,
     "metadata": {},
     "output_type": "execute_result"
    }
   ],
   "source": [
    "house_price.index"
   ]
  },
  {
   "cell_type": "code",
   "execution_count": 37,
   "id": "ca606447",
   "metadata": {},
   "outputs": [
    {
     "data": {
      "text/plain": [
       "address       object\n",
       "price        float64\n",
       "acres        float64\n",
       "size_sqft      int64\n",
       "age            int64\n",
       "rooms          int64\n",
       "baths        float64\n",
       "garages        int64\n",
       "dtype: object"
      ]
     },
     "execution_count": 37,
     "metadata": {},
     "output_type": "execute_result"
    }
   ],
   "source": [
    "house_price.dtypes"
   ]
  },
  {
   "cell_type": "code",
   "execution_count": 38,
   "id": "d91dc614",
   "metadata": {},
   "outputs": [
    {
     "data": {
      "text/plain": [
       "address      0\n",
       "price        0\n",
       "acres        0\n",
       "size_sqft    0\n",
       "age          0\n",
       "rooms        0\n",
       "baths        0\n",
       "garages      0\n",
       "dtype: int64"
      ]
     },
     "execution_count": 38,
     "metadata": {},
     "output_type": "execute_result"
    }
   ],
   "source": [
    "house_price.isna().sum()"
   ]
  },
  {
   "cell_type": "code",
   "execution_count": 39,
   "id": "6e92224c",
   "metadata": {},
   "outputs": [
    {
     "data": {
      "image/png": "[encoded data removed]",
      "text/plain": [
       "<Figure size 720x576 with 1 Axes>"
      ]
     },
     "metadata": {},
     "output_type": "display_data"
    }
   ],
   "source": [
    "house_price.price.plot(kind=\"hist\",figsize = (10,8), title=\"Summarizing house price\");"
   ]
  },
  {
   "cell_type": "markdown",
   "id": "19b32eb0",
   "metadata": {},
   "source": [
    "Answer: Majority of the house prices are in the 300-400 price range."
   ]
  },
  {
   "cell_type": "markdown",
   "id": "49c3e725",
   "metadata": {},
   "source": [
    "2.2 Variation in the house price with the number of rooms"
   ]
  },
  {
   "cell_type": "code",
   "execution_count": 40,
   "id": "9a193228",
   "metadata": {},
   "outputs": [
    {
     "name": "stderr",
     "output_type": "stream",
     "text": [
      "*c* argument looks like a single numeric RGB or RGBA sequence, which should be avoided as value-mapping will have precedence in case its length matches with *x* & *y*.  Please use the *color* keyword-argument or provide a 2-D array with a single row if you intend to specify the same RGB or RGBA value for all points.\n"
     ]
    },
    {
     "data": {
      "image/png": "[encoded data removed]",
      "text/plain": [
       "<Figure size 720x576 with 1 Axes>"
      ]
     },
     "metadata": {},
     "output_type": "display_data"
    }
   ],
   "source": [
    "house_price.plot(x = \"rooms\", y = \"price\", kind= \"scatter\", figsize =(10,8), title = \"Closing price distribution\");"
   ]
  },
  {
   "cell_type": "code",
   "execution_count": 41,
   "id": "1478399c",
   "metadata": {},
   "outputs": [
    {
     "data": {
      "image/png": "[encoded data removed]",
      "text/plain": [
       "<Figure size 432x432 with 3 Axes>"
      ]
     },
     "metadata": {},
     "output_type": "display_data"
    }
   ],
   "source": [
    "sns.jointplot(data=house_price, x=\"rooms\", y=\"price\", kind = \"reg\");"
   ]
  },
  {
   "cell_type": "markdown",
   "id": "26c66c6e",
   "metadata": {},
   "source": [
    "Answer: The number of rooms have a fairly strong relationship with the price. Though the price is not greatly influenced by the number of rooms."
   ]
  },
  {
   "cell_type": "markdown",
   "id": "7d986b30",
   "metadata": {},
   "source": [
    "2.3 Relationship between price and other attributes"
   ]
  },
  {
   "cell_type": "code",
   "execution_count": 42,
   "id": "67c07121",
   "metadata": {},
   "outputs": [
    {
     "data": {
      "image/png": "[encoded data removed]",
      "text/plain": [
       "<Figure size 432x288 with 2 Axes>"
      ]
     },
     "metadata": {},
     "output_type": "display_data"
    }
   ],
   "source": [
    "house_price_corr = house_price.corr()\n",
    "sns.heatmap(data=house_price_corr, annot = True, cmap = \"rainbow\");"
   ]
  },
  {
   "cell_type": "markdown",
   "id": "1d778dcf",
   "metadata": {},
   "source": [
    "2.4 Answer: \"size_sqft\" had the greatest influence on the price. The second most influential attribute on price would be \"acres\" and \"garages\"."
   ]
  },
  {
   "cell_type": "code",
   "execution_count": 119,
   "id": "333b442b",
   "metadata": {},
   "outputs": [
    {
     "name": "stdout",
     "output_type": "stream",
     "text": [
      "\n",
      "\n",
      "\n",
      "Finished execution at   2021-12-13 01:43:47.757777\n",
      "arpit\n"
     ]
    }
   ],
   "source": [
    "import getpass\n",
    "import datetime\n",
    "print(\"\\n\\n\\nFinished execution at  \", datetime.datetime.now())\n",
    "print(getpass.getuser())"
   ]
  }
 ],
 "metadata": {
  "kernelspec": {
   "display_name": "Python 3",
   "language": "python",
   "name": "python3"
  },
  "language_info": {
   "codemirror_mode": {
    "name": "ipython",
    "version": 3
   },
   "file_extension": ".py",
   "mimetype": "text/x-python",
   "name": "python",
   "nbconvert_exporter": "python",
   "pygments_lexer": "ipython3",
   "version": "3.8.8"
  }
 },
 "nbformat": 4,
 "nbformat_minor": 5
}
